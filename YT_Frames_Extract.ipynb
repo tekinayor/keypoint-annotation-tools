{
 "cells": [
  {
   "cell_type": "code",
   "execution_count": null,
   "id": "6b392ce2",
   "metadata": {
    "scrolled": true
   },
   "outputs": [],
   "source": [
    "!pip install pytubefix"
   ]
  },
  {
   "cell_type": "code",
   "execution_count": null,
   "id": "c57dc466",
   "metadata": {},
   "outputs": [],
   "source": [
    "from pytubefix import YouTube\n",
    "from pytubefix.cli import on_progress"
   ]
  },
  {
   "cell_type": "markdown",
   "id": "5d6305a7",
   "metadata": {},
   "source": [
    "### Downloads videos from YT -> Extracts frames:"
   ]
  },
  {
   "cell_type": "code",
   "execution_count": null,
   "id": "37f3d3ae",
   "metadata": {},
   "outputs": [],
   "source": [
    "#from pytube import YouTube\n",
    "#import os\n",
    "\n",
    "from pytubefix import YouTube\n",
    "import os\n",
    "import cv2\n",
    "\n",
    "# URLs of the videos to download\n",
    "urls = [\n",
    "    \"links to youtube videos\"\n",
    "]\n",
    "\n",
    "print(\"You have downloaded\", len(urls), \"videos\")\n",
    "save_directory = r\"file path to store videos\""
   ]
  },
  {
   "cell_type": "markdown",
   "id": "1f9f5c8e",
   "metadata": {},
   "source": [
    "## Downloads videos from YouTube first, and then extracts frames:"
   ]
  },
  {
   "cell_type": "markdown",
   "id": "440d5777",
   "metadata": {},
   "source": [
    "### 1. Frames per second (FPS):"
   ]
  },
  {
   "cell_type": "code",
   "execution_count": null,
   "id": "927cca65",
   "metadata": {},
   "outputs": [],
   "source": [
    "# Download each video and save it with the specified naming convention\n",
    "for i, url in enumerate(urls, start=1):\n",
    "    yt = YouTube(url)\n",
    "    print(f\"Downloading: {yt.title}\")\n",
    " \n",
    "    ys = yt.streams.get_highest_resolution()\n",
    "    video_filename = f\"<workout name><file number>_000{i}.mp4\"\n",
    "    ys.download(output_path=save_directory, filename=video_filename)\n",
    "\n",
    "print(\"Video downloads complete!\")\n",
    "\n",
    "# Directory to save the extracted frames\n",
    "frames_save_directory = r\"file path to store frames\"\n",
    "os.makedirs(frames_save_directory, exist_ok=True)\n",
    "\n",
    "# Extract one frame per second from each video and save them with the specified naming convention\n",
    "for i, url in enumerate(urls, start=1):\n",
    "    video_filename = os.path.join(save_directory, f\"<workout name><file number>_000{i}.mp4\")\n",
    "    cap = cv2.VideoCapture(video_filename)\n",
    "    \n",
    "    fps = int(cap.get(cv2.CAP_PROP_FPS))  # Get frames per second\n",
    "    frame_interval = fps  # 1 frame per second\n",
    "    current_frame = 0\n",
    "    saved_frames = 0\n",
    "\n",
    "    while cap.isOpened():\n",
    "        ret, frame = cap.read()\n",
    "        if not ret:\n",
    "            break\n",
    "\n",
    "        # Save a frame every second (based on the FPS)\n",
    "        if current_frame % frame_interval == 0:\n",
    "            frame_filename = os.path.join(frames_save_directory, f\"frames_<workout name><file number>_{i}_{saved_frames+1:05}.png\")\n",
    "            cv2.imwrite(frame_filename, frame)\n",
    "            saved_frames += 1\n",
    "\n",
    "        current_frame += 1\n",
    "\n",
    "    cap.release()\n",
    "\n",
    "print(\"Frame extraction complete!\")\n"
   ]
  },
  {
   "cell_type": "markdown",
   "id": "0e17ab93",
   "metadata": {},
   "source": [
    "### 2. Extract a specific number of frames per video:"
   ]
  },
  {
   "cell_type": "code",
   "execution_count": null,
   "id": "007d0248",
   "metadata": {},
   "outputs": [],
   "source": [
    "# Download each video and save it with the specified naming convention\n",
    "for i, url in enumerate(urls, start=1):\n",
    "    yt = YouTube(url)\n",
    "    print(f\"Downloading: {yt.title}\")\n",
    " \n",
    "    ys = yt.streams.get_highest_resolution()\n",
    "    video_filename = f\"_000{i}.mp4\"\n",
    "    ys.download(output_path=save_directory, filename=video_filename)\n",
    "\n",
    "print(\"Video downloads complete!\")\n",
    "\n",
    "# Directory to save the extracted frames\n",
    "frames_save_directory = r\"\"\n",
    "os.makedirs(frames_save_directory, exist_ok=True)\n",
    "\n",
    "# Extract 100 frames from each video and save them with the specified naming convention\n",
    "for i, url in enumerate(urls, start=1):\n",
    "    video_filename = os.path.join(save_directory, f\"_000{i}.mp4\")\n",
    "    cap = cv2.VideoCapture(video_filename)\n",
    "    \n",
    "    frame_count = int(cap.get(cv2.CAP_PROP_FRAME_COUNT))\n",
    "    frame_interval = max(frame_count // 100,1) # Ensure that we have at least 40 frames\n",
    "    current_frame = 0\n",
    "    saved_frames = 0\n",
    "\n",
    "    while cap.isOpened() and saved_frames < 100:\n",
    "        ret, frame = cap.read()\n",
    "        if not ret:\n",
    "            break\n",
    "\n",
    "        if current_frame % frame_interval == 0:\n",
    "            frame_filename = os.path.join(frames_save_directory, f\"frames_{i}_{saved_frames+1:05}.png\")\n",
    "            cv2.imwrite(frame_filename, frame)\n",
    "            saved_frames += 1\n",
    "\n",
    "        current_frame += 1\n",
    "\n",
    "    cap.release()\n",
    "\n",
    "print(\"Frame extraction complete!\")\n"
   ]
  },
  {
   "cell_type": "markdown",
   "id": "8e565881",
   "metadata": {},
   "source": [
    "## Directly extract frames from downloaded videos"
   ]
  },
  {
   "cell_type": "markdown",
   "id": "6d036f94",
   "metadata": {},
   "source": [
    "### 1. Extract a specific number of frames:"
   ]
  },
  {
   "cell_type": "code",
   "execution_count": null,
   "id": "e391173c",
   "metadata": {},
   "outputs": [],
   "source": [
    "## DIRECTLY EXTRACT FRAMES FROM DOWNLOADED VIDEOS\n",
    "import os\n",
    "import cv2\n",
    "\n",
    "# Directory containing the downloaded videos\n",
    "video_directory = r\"\"\n",
    "# Directory to save the extracted frames\n",
    "frames_save_directory = r\"\"\n",
    "os.makedirs(frames_save_directory, exist_ok=True)\n",
    "\n",
    "# List of video filenames (adjust if filenames are different)\n",
    "video_filenames = [f\"_000{i}.mp4\" for i in range(1, len(os.listdir(video_directory))+1)]\n",
    "\n",
    "\n",
    "# Extract 100 frames from each video and save them with the specified naming convention\n",
    "for i, video_filename in enumerate(video_filenames, start=1):\n",
    "    video_path = os.path.join(video_directory, video_filename)\n",
    "    cap = cv2.VideoCapture(video_path)\n",
    "    \n",
    "    frame_count = int(cap.get(cv2.CAP_PROP_FRAME_COUNT))\n",
    "    frame_interval = max(frame_count // 150, 1)  # Ensure that we have at least 100 frames\n",
    "    current_frame = 0\n",
    "    saved_frames = 0\n",
    "\n",
    "    while cap.isOpened() and saved_frames < 150:\n",
    "        ret, frame = cap.read()\n",
    "        if not ret:\n",
    "            break\n",
    "\n",
    "        if current_frame % frame_interval == 0:\n",
    "            frame_filename = os.path.join(frames_save_directory, f\"frames_{i}_{saved_frames+1:05}.png\")\n",
    "            cv2.imwrite(frame_filename, frame)\n",
    "            saved_frames += 1\n",
    "\n",
    "        current_frame += 1\n",
    "\n",
    "    cap.release()\n",
    "\n",
    "print(\"Frame extraction complete!\")\n"
   ]
  },
  {
   "cell_type": "markdown",
   "id": "70f78998",
   "metadata": {},
   "source": [
    "### 2. FPS:"
   ]
  },
  {
   "cell_type": "code",
   "execution_count": null,
   "id": "7c5a9308",
   "metadata": {},
   "outputs": [],
   "source": [
    "import os\n",
    "import cv2\n",
    "\n",
    "# Directory containing the downloaded videos\n",
    "video_directory = r\"\"\n",
    "# Directory to save the extracted frames\n",
    "frames_save_directory = r\"\"\n",
    "os.makedirs(frames_save_directory, exist_ok=True)\n",
    "\n",
    "# Desired frames per second (FPS) for frame extraction\n",
    "desired_fps = 1  # Change this value to control how many frames per second to extract\n",
    "\n",
    "# List of video filenames (adjust if filenames are different)\n",
    "video_filenames = [f\"_000{i}.mp4\" for i in range(1, len(os.listdir(video_directory)) + 1)]\n",
    "\n",
    "# Extract frames from each video at the specified FPS\n",
    "for i, video_filename in enumerate(video_filenames, start=1):\n",
    "    video_path = os.path.join(video_directory, video_filename)\n",
    "    cap = cv2.VideoCapture(video_path)\n",
    "    \n",
    "    # Get the actual FPS of the video\n",
    "    actual_fps = cap.get(cv2.CAP_PROP_FPS)\n",
    "    \n",
    "    # Calculate the interval between frames to achieve the desired FPS\n",
    "    frame_interval = int(actual_fps // desired_fps)\n",
    "    if frame_interval <= 0:\n",
    "        frame_interval = 1  # To ensure the interval is at least 1 frame\n",
    "    \n",
    "    current_frame = 0\n",
    "    saved_frames = 0\n",
    "\n",
    "    while cap.isOpened():\n",
    "        ret, frame = cap.read()\n",
    "        if not ret:\n",
    "            break\n",
    "\n",
    "        # Save the frame if it matches the desired frame interval\n",
    "        if current_frame % frame_interval == 0:\n",
    "            frame_filename = os.path.join(frames_save_directory, f\"frames__{i}_{saved_frames + 1:05}.png\")\n",
    "            cv2.imwrite(frame_filename, frame)\n",
    "            saved_frames += 1\n",
    "\n",
    "        current_frame += 1\n",
    "\n",
    "    cap.release()\n",
    "\n",
    "print(\"Frame extraction complete!\")\n"
   ]
  },
  {
   "cell_type": "code",
   "execution_count": null,
   "id": "c358cdaf",
   "metadata": {},
   "outputs": [],
   "source": []
  }
 ],
 "metadata": {
  "kernelspec": {
   "display_name": "Python 3",
   "language": "python",
   "name": "python3"
  },
  "language_info": {
   "codemirror_mode": {
    "name": "ipython",
    "version": 3
   },
   "file_extension": ".py",
   "mimetype": "text/x-python",
   "name": "python",
   "nbconvert_exporter": "python",
   "pygments_lexer": "ipython3",
   "version": "3.8.8"
  }
 },
 "nbformat": 4,
 "nbformat_minor": 5
}
