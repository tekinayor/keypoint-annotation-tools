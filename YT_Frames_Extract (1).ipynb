{
 "cells": [
  {
   "cell_type": "code",
   "execution_count": null,
   "id": "6b392ce2",
   "metadata": {},
   "outputs": [],
   "source": [
    "#!pip install pytubefix\n",
    "\n",
    "from pytubefix import YouTube\n",
    "from pytubefix.cli import on_progress\n",
    " \n",
    "urls = [\n",
    "\"https://www.youtube.com/watch?v=_QgxFkG44v8\"]\n",
    "\n",
    "for url in urls:\n",
    "    yt = YouTube(url, on_progress_callback = on_progress)\n",
    "    print(yt.title)\n",
    " \n",
    "    ys = yt.streams.get_highest_resolution()\n",
    "    ys.download()"
   ]
  },
  {
   "cell_type": "code",
   "execution_count": 46,
   "id": "a0734de9",
   "metadata": {},
   "outputs": [],
   "source": [
    "import cv2\n",
    "import os\n",
    "\n",
    "vid = cv2.VideoCapture(\"/Users/yajatgoswami/YT_Videos_GMA/Waking ritual of a 1 week old baby.mp4\")"
   ]
  },
  {
   "cell_type": "code",
   "execution_count": 47,
   "id": "312af6e7",
   "metadata": {},
   "outputs": [
    {
     "data": {
      "text/plain": [
       "25"
      ]
     },
     "execution_count": 47,
     "metadata": {},
     "output_type": "execute_result"
    }
   ],
   "source": [
    "fps = round(vid.get(cv2.CAP_PROP_FPS))\n",
    "fps"
   ]
  },
  {
   "cell_type": "code",
   "execution_count": 48,
   "id": "62d21313",
   "metadata": {},
   "outputs": [],
   "source": [
    "n=0 #for no. of frames\n",
    "i=0 # for naming the frames\n",
    "output_folder = '/Users/yajatgoswami/Desktop/IISc/Project Associate/Dataset/GMA/frames_00009'\n",
    "\n",
    "while True:\n",
    "    ret, frame=vid.read()\n",
    "    if n%fps==0:\n",
    "        frame_filename = os.path.join(output_folder, \"frame_{}.png\".format(i))\n",
    "        cv2.imwrite(frame_filename, frame)\n",
    "        i+=1\n",
    "    n+=1\n",
    "    if ret==False:\n",
    "        break\n",
    "vid.release()\n",
    "cv2.destroyAllWindows()"
   ]
  },
  {
   "cell_type": "code",
   "execution_count": null,
   "id": "e2f50732",
   "metadata": {},
   "outputs": [],
   "source": [
    "!pip install pytubefix\n",
    "\n",
    "from pytubefix import YouTube\n",
    "from pytubefix.cli import on_progress\n",
    " \n",
    "url = \"https://youtu.be/AzV3EA-1-yM?feature=shared\"\n",
    " \n",
    "yt = YouTube(url, on_progress_callback = on_progress)\n",
    "print(yt.title)\n",
    " \n",
    "ys = yt.streams.get_highest_resolution()\n",
    "ys.download()"
   ]
  }
 ],
 "metadata": {
  "kernelspec": {
   "display_name": "Python 3 (ipykernel)",
   "language": "python",
   "name": "python3"
  },
  "language_info": {
   "codemirror_mode": {
    "name": "ipython",
    "version": 3
   },
   "file_extension": ".py",
   "mimetype": "text/x-python",
   "name": "python",
   "nbconvert_exporter": "python",
   "pygments_lexer": "ipython3",
   "version": "3.11.5"
  }
 },
 "nbformat": 4,
 "nbformat_minor": 5
}
